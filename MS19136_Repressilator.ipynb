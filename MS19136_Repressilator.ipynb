{
 "cells": [
  {
   "cell_type": "code",
   "execution_count": 1,
   "metadata": {},
   "outputs": [],
   "source": [
    "#  Importing the necessary packages\n",
    "import numpy as np\n",
    "import matplotlib\n",
    "matplotlib.use('Qt5Agg') # To get interactive plots, switch the matplotlib backend to Qt5Agg\n",
    "import matplotlib.pyplot as plt\n",
    "from scipy.integrate import solve_ivp\n",
    "from mpl_toolkits import mplot3d\n",
    "import pylab as pl\n"
   ]
  },
  {
   "cell_type": "markdown",
   "metadata": {},
   "source": [
    "#### The Repressilator"
   ]
  },
  {
   "cell_type": "code",
   "execution_count": 2,
   "metadata": {},
   "outputs": [],
   "source": [
    "# Parameter values (default: for limit cycle oscillations)\n",
    "beta=15\n",
    "n= 3\n",
    "\n",
    "# Defining the ODEs of Repressilator model\n",
    "def repressilator(t, y):\n",
    "    m1=y[0]\n",
    "    m2=y[1]\n",
    "    m3=y[2]\n",
    "    \n",
    "    return np.array([-m1+beta/(1+m3**n),\n",
    "                     -m2+beta/(1+m1**n),\n",
    "                     -m3+beta/(1+m2**n)])"
   ]
  },
  {
   "cell_type": "code",
   "execution_count": 3,
   "metadata": {},
   "outputs": [],
   "source": [
    "y0 = np.array([1, 1, 1.2]) # initial values\n",
    "t = np.linspace(0,50, 1000) # time points\n",
    "\n",
    "# Solving the model to simulate it over a period of time \n",
    "\n",
    "'''\n",
    "Change the parameter values to observes the changes in system's behaviour\n",
    "'''\n",
    "# beta =15\n",
    "# n = 1.7\n",
    "\n",
    "# using solve_ivp module of scipy.integrate\n",
    "soln = solve_ivp(repressilator, t_span=(0,200), y0=y0, t_eval=t)\n",
    "\n",
    "# Plotting the solutions\n",
    "plt.ion()\n",
    "plt.xlabel('t')\n",
    "plt.ylabel('m')\n",
    "plt.plot(soln.t, soln.y[0], label='m1')\n",
    "plt.plot(soln.t, soln.y[1], label='m2')\n",
    "plt.plot(soln.t, soln.y[2], label='m3')\n",
    "plt.legend()\n",
    "plt.show()\n"
   ]
  },
  {
   "cell_type": "markdown",
   "metadata": {},
   "source": [
    "##### Limit cycle oscillation in 3D Space"
   ]
  },
  {
   "cell_type": "code",
   "execution_count": 4,
   "metadata": {},
   "outputs": [],
   "source": [
    "# simple 3D plot of the limit cycle in the space of the three protein concentrations.\n",
    "fig = plt.figure()\n",
    "ax = plt.axes(projection ='3d')\n",
    " \n",
    "# plotting the functions\n",
    "# Move around the plot graphics to have better visualization\n",
    "plt.ion()\n",
    "ax.plot3D(soln.y[1], soln.y[2], soln.y[0], 'green')\n",
    "ax.set_xlabel('m2')\n",
    "ax.set_ylabel('m3')\n",
    "ax.set_zlabel('m1')\n",
    "plt.show()"
   ]
  },
  {
   "cell_type": "markdown",
   "metadata": {},
   "source": [
    "#### Solving the system analytically for obtaining no. of fixed points"
   ]
  },
  {
   "cell_type": "code",
   "execution_count": 5,
   "metadata": {},
   "outputs": [],
   "source": [
    "# To solve the repressilator model for fixed points analytically\n",
    "\n",
    "# Parameters\n",
    "beta, n = 10, 3\n",
    "\n",
    "# Let the unit of composite function be\n",
    "f = lambda x: beta / (1 + x ** n)\n",
    "\n",
    "# Make composition of functions\n",
    "x = np.linspace(0, 3, 200)\n",
    "fff = f(f(f(x)))\n",
    "\n",
    "# Plotting the functions to see number of intersections; the number of fixed points\n",
    "plt.ion()\n",
    "plt.plot(x, x, label = 'y = x')\n",
    "plt.plot(x, fff, label = 'y = fff(x)')\n",
    "plt.xlabel('x')\n",
    "plt.legend()\n",
    "plt.show()"
   ]
  },
  {
   "cell_type": "markdown",
   "metadata": {},
   "source": [
    "#### 3D Phaseportrait of Repressilator"
   ]
  },
  {
   "cell_type": "code",
   "execution_count": 6,
   "metadata": {},
   "outputs": [
    {
     "name": "stderr",
     "output_type": "stream",
     "text": [
      "C:\\Users\\auros\\AppData\\Local\\Temp\\ipykernel_18428\\3771273314.py:12: RuntimeWarning: invalid value encountered in scalar power\n",
      "  m2dot = -m2 + B/(1+m1**n)\n",
      "C:\\Users\\auros\\AppData\\Local\\Temp\\ipykernel_18428\\3771273314.py:13: RuntimeWarning: invalid value encountered in scalar power\n",
      "  m3dot = -m3 + B/(1+m2**n)\n",
      "C:\\Users\\auros\\AppData\\Local\\Temp\\ipykernel_18428\\3771273314.py:11: RuntimeWarning: invalid value encountered in scalar power\n",
      "  m1dot = -m1 + B/(1+m3**n)\n",
      "c:\\Users\\auros\\anaconda3\\lib\\site-packages\\scipy\\integrate\\_odepack_py.py:248: ODEintWarning: Excess accuracy requested (tolerances too small). Run with full_output = 1 to get quantitative information.\n",
      "  warnings.warn(warning_msg, ODEintWarning)\n"
     ]
    },
    {
     "data": {
      "text/plain": [
       "\"\\nThe parameter values can be changes to see the transition of the system from stable fixed point\\nto limit cycle oscillation as n crosses the values '2'.\\n\\nSome error might appear as the solver used is not robust to compute all the values in limit cycle conditions.\\n\""
      ]
     },
     "execution_count": 6,
     "metadata": {},
     "output_type": "execute_result"
    }
   ],
   "source": [
    "# Import necessary packages for 3D Phaseportrait\n",
    "import phaseportrait\n",
    "from phaseportrait.streamlines import *\n",
    "\n",
    "# Set the parameter values\n",
    "beta = 15\n",
    "n = 2.5\n",
    "\n",
    "# Rewriting the model to make it compatible for the phaseportrait package\n",
    "def repressilator2( m1, m2, m3, B = beta, n = n):\n",
    "    m1dot = -m1 + B/(1+m3**n)\n",
    "    m2dot = -m2 + B/(1+m1**n)\n",
    "    m3dot = -m3 + B/(1+m2**n)\n",
    "\n",
    "    return np.array([m1dot, m2dot, m3dot])\n",
    "\n",
    "# Defining the range of visualization for all the axes in a list\n",
    "pp = phaseportrait.PhasePortrait3D(repressilator2, [(-1, 10), (-1, 10), (-1, 20)], \n",
    "                                   MeshDim=10,\n",
    "                                   Title='Repressilator phase portrait for n = {}'.format(n),\n",
    "                                   xlabel='m1', \n",
    "                                   ylabel='m2', \n",
    "                                   zlabel='m3', \n",
    "                                   maxLen=500, \n",
    "                                   )\n",
    "\n",
    "# Plotting the 3D phaseportrait\n",
    "plt.ion()\n",
    "pp.plot(color='viridis')\n",
    "plt.show()\n",
    "\n",
    "\n",
    "'''\n",
    "The parameter values can be changes to see the transition of the system from stable fixed point\n",
    "to limit cycle oscillation as n crosses the values '2'.\n",
    "\n",
    "Some error might appear as the solver used is not robust to compute all the values in limit cycle conditions.\n",
    "'''"
   ]
  },
  {
   "cell_type": "code",
   "execution_count": null,
   "metadata": {},
   "outputs": [],
   "source": []
  }
 ],
 "metadata": {
  "kernelspec": {
   "display_name": "base",
   "language": "python",
   "name": "python3"
  },
  "language_info": {
   "codemirror_mode": {
    "name": "ipython",
    "version": 3
   },
   "file_extension": ".py",
   "mimetype": "text/x-python",
   "name": "python",
   "nbconvert_exporter": "python",
   "pygments_lexer": "ipython3",
   "version": "3.9.16"
  }
 },
 "nbformat": 4,
 "nbformat_minor": 2
}
